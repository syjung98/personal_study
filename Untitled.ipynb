{
 "cells": [
  {
   "cell_type": "code",
   "execution_count": 44,
   "metadata": {},
   "outputs": [
    {
     "name": "stdout",
     "output_type": "stream",
     "text": [
      "0.01\n",
      "0.011\n",
      "0.012\n",
      "0.013\n",
      "0.014\n",
      "0.015\n",
      "0.016\n",
      "0.017\n",
      "0.018\n",
      "0.019\n",
      "0.02\n"
     ]
    }
   ],
   "source": [
    "for i in range(10,21):\n",
    "    asd=float(i/1000)%.3\n",
    "    print(asd)"
   ]
  },
  {
   "cell_type": "code",
   "execution_count": 16,
   "metadata": {},
   "outputs": [
    {
     "name": "stdin",
     "output_type": "stream",
     "text": [
      "Enter the principal amount: 0\n",
      "Enter the principal amount: -100\n",
      "Enter the principal amount: 45672132494543\n",
      "Enter the principal amount: 30000000\n"
     ]
    },
    {
     "name": "stdout",
     "output_type": "stream",
     "text": [
      "          1         2         3         4         5         6         7         8         9         10    \n",
      "0.010  30300000  30603000  30909030  31218120  31530302  31845605  32164061  32485701  32810558  33138664\n",
      "\n",
      "0.011  30330000  30663630  31000930  31341940  31686702  32035255  32387643  32743907  33104090  33468235\n",
      "\n",
      "0.012  30360000  30724320  31093012  31466128  31843722  32225846  32612556  33003907  33399954  33800753\n",
      "\n",
      "0.013  30390000  30785070  31185276  31590684  32001363  32417381  32838807  33265712  33698166  34136242\n",
      "\n",
      "0.014  30420000  30845880  31277722  31715610  32159629  32609864  33066402  33529332  33998742  34474725\n",
      "\n",
      "0.015  30450000  30906750  31370351  31840907  32318520  32803298  33295347  33794778  34301699  34816225\n",
      "\n",
      "0.016  30480000  30967680  31463163  31966573  32478039  32997687  33525650  34062061  34607054  35160767\n",
      "\n",
      "0.017  30510000  31028670  31556157  32092612  32638186  33193036  33757317  34331192  34914822  35508374\n",
      "\n",
      "0.018  30540000  31089720  31649335  32219023  32798965  33389347  33990355  34602181  35225021  35859071\n",
      "\n",
      "0.019  30570000  31150830  31742696  32345807  32960377  33586624  34224770  34875041  35537667  36212882\n",
      "\n",
      "0.020  30600000  31212000  31836240  32472965  33122424  33784873  34460570  35149781  35852777  36569833\n",
      "\n"
     ]
    },
    {
     "name": "stdin",
     "output_type": "stream",
     "text": [
      "Continue ( Y/ N ) ? y\n",
      "Enter the principal amount: 12345678945655123\n",
      "Enter the principal amount: 1\n"
     ]
    },
    {
     "name": "stdout",
     "output_type": "stream",
     "text": [
      "          1         2         3         4         5         6         7         8         9         10    \n",
      "0.010         1         1         1         1         1         1         1         1         1         1\n",
      "\n",
      "0.011         1         1         1         1         1         1         1         1         1         1\n",
      "\n",
      "0.012         1         1         1         1         1         1         1         1         1         1\n",
      "\n",
      "0.013         1         1         1         1         1         1         1         1         1         1\n",
      "\n",
      "0.014         1         1         1         1         1         1         1         1         1         1\n",
      "\n",
      "0.015         1         1         1         1         1         1         1         1         1         1\n",
      "\n",
      "0.016         1         1         1         1         1         1         1         1         1         1\n",
      "\n",
      "0.017         1         1         1         1         1         1         1         1         1         1\n",
      "\n",
      "0.018         1         1         1         1         1         1         1         1         1         1\n",
      "\n",
      "0.019         1         1         1         1         1         1         1         1         1         1\n",
      "\n",
      "0.020         1         1         1         1         1         1         1         1         1         1\n",
      "\n"
     ]
    },
    {
     "name": "stdin",
     "output_type": "stream",
     "text": [
      "Continue ( Y/ N ) ? n\n"
     ]
    }
   ],
   "source": [
    "#cal function\n",
    "def cal(i,j):\n",
    "    if a==1:\n",
    "        result=1\n",
    "    else:\n",
    "        result=round((((1+j)**i)*a))\n",
    "    print('%10d'%result,end='')\n",
    "    \n",
    "#interest-per-year list        \n",
    "interest=[0.010,0.011,0.012,0.013,0.014,0.015,0.016,0.017,0.018,0.019,0.020]\n",
    "#input pricipal\n",
    "while True:\n",
    "    while True:\n",
    "        a=int(input(\"Enter the principal amount:\"))\n",
    "        if a>0 and a<1000000000:\n",
    "            break\n",
    "#print 1 row\n",
    "    print(''.ljust(6),end='')\n",
    "    for i in range(1,11):\n",
    "        if i<10:\n",
    "            print(str(i).center(10),end='')\n",
    "        else:print(str(i).center(10))\n",
    "#print table\n",
    "    for j in interest:\n",
    "        j=float(j)\n",
    "        print(\"%.3f\"%j,end='')\n",
    "        for i in range(1,11):\n",
    "            cal(i,j)\n",
    "        print('\\n')\n",
    "    if input('Continue ( Y/ N ) ?') in['N','n']:\n",
    "        break\n",
    "    \n",
    "    \n",
    "    "
   ]
  },
  {
   "cell_type": "code",
   "execution_count": 35,
   "metadata": {},
   "outputs": [
    {
     "name": "stdout",
     "output_type": "stream",
     "text": [
      "0.010\n",
      "0.011\n",
      "0.012\n",
      "0.013\n",
      "0.014\n",
      "0.015\n",
      "0.016\n",
      "0.017\n",
      "0.018\n",
      "0.019\n",
      "0.020\n"
     ]
    }
   ],
   "source": [
    "for i in range (10,21,1):\n",
    "    print('%.3f'%(i/1000))"
   ]
  }
 ],
 "metadata": {
  "kernelspec": {
   "display_name": "Python 3",
   "language": "python",
   "name": "python3"
  },
  "language_info": {
   "codemirror_mode": {
    "name": "ipython",
    "version": 3
   },
   "file_extension": ".py",
   "mimetype": "text/x-python",
   "name": "python",
   "nbconvert_exporter": "python",
   "pygments_lexer": "ipython3",
   "version": "3.7.6"
  }
 },
 "nbformat": 4,
 "nbformat_minor": 4
}
