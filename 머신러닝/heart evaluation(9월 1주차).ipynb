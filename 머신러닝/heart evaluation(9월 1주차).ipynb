{
 "cells": [
  {
   "cell_type": "code",
   "execution_count": 91,
   "metadata": {},
   "outputs": [],
   "source": [
    "import pandas as pd\n",
    "import numpy as np\n",
    "from sklearn.tree import DecisionTreeClassifier\n",
    "from sklearn.metrics import accuracy_score\n",
    "from sklearn.base import BaseEstimator\n",
    "from sklearn.metrics import confusion_matrix\n",
    "from sklearn.metrics import accuracy_score,precision_score,recall_score\n",
    "from sklearn.linear_model import LogisticRegression\n",
    "from sklearn.metrics import precision_recall_curve\n",
    "from sklearn.metrics import average_precision_score\n",
    "from sklearn.metrics import roc_curve\n",
    "from sklearn.metrics import roc_auc_score\n",
    "from sklearn.model_selection import cross_val_score,cross_validate\n",
    "from sklearn.metrics import f1_score\n",
    "from sklearn.model_selection import KFold\n",
    "from sklearn.model_selection import StratifiedKFold\n",
    "from sklearn.model_selection import GridSearchCV,train_test_split\n",
    "\n"
   ]
  },
  {
   "cell_type": "code",
   "execution_count": 12,
   "metadata": {},
   "outputs": [
    {
     "name": "stdout",
     "output_type": "stream",
     "text": [
      "   age  sex  cp  trestbps  chol  fbs  restecg  thalach  exang  oldpeak  slope  \\\n",
      "0   63    1   3       145   233    1        0      150      0      2.3      0   \n",
      "1   37    1   2       130   250    0        1      187      0      3.5      0   \n",
      "2   41    0   1       130   204    0        0      172      0      1.4      2   \n",
      "3   56    1   1       120   236    0        1      178      0      0.8      2   \n",
      "4   57    0   0       120   354    0        1      163      1      0.6      2   \n",
      "\n",
      "   ca  thal  target  \n",
      "0   0     1       1  \n",
      "1   0     2       1  \n",
      "2   0     2       1  \n",
      "3   0     2       1  \n",
      "4   0     2       1  \n",
      "(303, 14)\n"
     ]
    }
   ],
   "source": [
    "heart=pd.read_csv(\"heart.csv\")\n",
    "print(heart.head())\n",
    "print(heart.shape)"
   ]
  },
  {
   "cell_type": "code",
   "execution_count": 8,
   "metadata": {},
   "outputs": [
    {
     "data": {
      "text/plain": [
       "'age : 나이\\nsex : 성별(0 : 여성; 1 : 남성)\\ncp : 가슴통증 유형(0 = 증상 없음 ; 1 = 비전형적 협심증; 2 = 비협심증 통증; 3 = 전형적인 협심증)\\ntrestbps : 평시 혈압\\nchol : 혈중 콜레스테롤 농도\\nfbs : 공복시 혈당 > 120mg/dl(0 = False; 1 = True)\\nrestecg : 안정 심전도 결과(0 = 좌심실 비대; 1 = 정상; 2 = ST-T파 비정상)\\nthalach : 최대 심박수\\nexang : 협심증 유발 운동(0 = no; 1 = yes)\\nold peak : 비교적 안정되기까지 운동으로 유발되는 ST\\nslope : 최대 운동 ST segment의 기울기(0 = 하강; 1 = 평면; 2 = 상승)\\nca : 형광 투시된 주요 혈관의 수(0~3; 4 = NA)\\nthal : 0 = NA; 1 = 해결된 결함; 2 = 정상; 3 = 해결가능한 결함\\ntarget : 심장병 진단(0 = False; 1 = True)'"
      ]
     },
     "execution_count": 8,
     "metadata": {},
     "output_type": "execute_result"
    }
   ],
   "source": [
    "'''age : 나이\n",
    "sex : 성별(0 : 여성; 1 : 남성)\n",
    "cp : 가슴통증 유형(0 = 증상 없음 ; 1 = 비전형적 협심증; 2 = 비협심증 통증; 3 = 전형적인 협심증)\n",
    "trestbps : 평시 혈압\n",
    "chol : 혈중 콜레스테롤 농도\n",
    "fbs : 공복시 혈당 > 120mg/dl(0 = False; 1 = True)\n",
    "restecg : 안정 심전도 결과(0 = 좌심실 비대; 1 = 정상; 2 = ST-T파 비정상)\n",
    "thalach : 최대 심박수\n",
    "exang : 협심증 유발 운동(0 = no; 1 = yes)\n",
    "old peak : 비교적 안정되기까지 운동으로 유발되는 ST\n",
    "slope : 최대 운동 ST segment의 기울기(0 = 하강; 1 = 평면; 2 = 상승)\n",
    "ca : 형광 투시된 주요 혈관의 수(0~3; 4 = NA)\n",
    "thal : 0 = NA; 1 = 해결된 결함; 2 = 정상; 3 = 해결가능한 결함\n",
    "target : 심장병 진단(0 = False; 1 = True)'''"
   ]
  },
  {
   "cell_type": "code",
   "execution_count": 17,
   "metadata": {},
   "outputs": [
    {
     "data": {
      "text/plain": [
       "age         0\n",
       "sex         0\n",
       "cp          0\n",
       "trestbps    0\n",
       "chol        0\n",
       "fbs         0\n",
       "restecg     0\n",
       "thalach     0\n",
       "exang       0\n",
       "oldpeak     0\n",
       "slope       0\n",
       "ca          0\n",
       "thal        0\n",
       "target      0\n",
       "dtype: int64"
      ]
     },
     "execution_count": 17,
     "metadata": {},
     "output_type": "execute_result"
    }
   ],
   "source": [
    "heart.isnull().sum()# null값 없음"
   ]
  },
  {
   "cell_type": "code",
   "execution_count": 22,
   "metadata": {},
   "outputs": [],
   "source": [
    "heart_data=heart.drop(\"target\",axis=1)# feature값만 지정해줌\n",
    "heart_target=heart[\"target\"]# target값만 지정해줌"
   ]
  },
  {
   "cell_type": "code",
   "execution_count": 26,
   "metadata": {},
   "outputs": [
    {
     "name": "stdout",
     "output_type": "stream",
     "text": [
      "예측 정확도:0.7143\n"
     ]
    }
   ],
   "source": [
    "#train_test_split으로 나눠서 예측해본다\n",
    "dt_clf=DecisionTreeClassifier()\n",
    "x_train,x_test,y_train,y_test=train_test_split(heart_data,heart_target,\n",
    "                                               test_size=0.3,random_state=121)\n",
    "dt_clf.fit(x_train,y_train)\n",
    "pred=dt_clf.predict(x_test)\n",
    "print(\"예측 정확도:{0:.4f}\".format(accuracy_score(y_test,pred)))"
   ]
  },
  {
   "cell_type": "code",
   "execution_count": 27,
   "metadata": {},
   "outputs": [
    {
     "name": "stdout",
     "output_type": "stream",
     "text": [
      "1의 예측 정확도:0.7869\n",
      "2의 예측 정확도:0.7143\n",
      "3의 예측 정확도:0.7131\n"
     ]
    }
   ],
   "source": [
    "#예측 정확도가 낮아서 test_size를 조정해서 여러번 실행해봄\n",
    "size=[0.2,0.3,0.4]\n",
    "case=0\n",
    "for i in size:\n",
    "    case+=1\n",
    "    x_train,x_test,y_train,y_test=train_test_split(heart_data,heart_target,\n",
    "                                               test_size=i,random_state=121)\n",
    "    dt_clf.fit(x_train,y_train)\n",
    "    pred=dt_clf.predict(x_test)\n",
    "    print(\"{0}의 예측 정확도:{1:.4f}\".format(case,accuracy_score(y_test,pred)))\n",
    "    \n",
    "#0.2일 경우가 가장 정확도가 높았지만 대체로 낮은 예측률을 보여줌"
   ]
  },
  {
   "cell_type": "markdown",
   "metadata": {},
   "source": [
    "교차검증\n",
    "\n",
    "kfold"
   ]
  },
  {
   "cell_type": "code",
   "execution_count": 49,
   "metadata": {},
   "outputs": [
    {
     "name": "stdout",
     "output_type": "stream",
     "text": [
      "\n",
      "#1 교차 검증 정확도 :0.6436, 학습 데이터 크기: 202, 검증 데이터 크기: 101\n",
      "#1 검증 세트 인덱스:[  0   1   2   3   4   5   6   7   8   9  10  11  12  13  14  15  16  17\n",
      "  18  19  20  21  22  23  24  25  26  27  28  29  30  31  32  33  34  35\n",
      "  36  37  38  39  40  41  42  43  44  45  46  47  48  49  50  51  52  53\n",
      "  54  55  56  57  58  59  60  61  62  63  64  65  66  67  68  69  70  71\n",
      "  72  73  74  75  76  77  78  79  80  81  82  83  84  85  86  87  88  89\n",
      "  90  91  92  93  94  95  96  97  98  99 100]\n",
      "\n",
      "#2 교차 검증 정확도 :0.7723, 학습 데이터 크기: 202, 검증 데이터 크기: 101\n",
      "#2 검증 세트 인덱스:[101 102 103 104 105 106 107 108 109 110 111 112 113 114 115 116 117 118\n",
      " 119 120 121 122 123 124 125 126 127 128 129 130 131 132 133 134 135 136\n",
      " 137 138 139 140 141 142 143 144 145 146 147 148 149 150 151 152 153 154\n",
      " 155 156 157 158 159 160 161 162 163 164 165 166 167 168 169 170 171 172\n",
      " 173 174 175 176 177 178 179 180 181 182 183 184 185 186 187 188 189 190\n",
      " 191 192 193 194 195 196 197 198 199 200 201]\n",
      "\n",
      "#3 교차 검증 정확도 :0.4653, 학습 데이터 크기: 202, 검증 데이터 크기: 101\n",
      "#3 검증 세트 인덱스:[202 203 204 205 206 207 208 209 210 211 212 213 214 215 216 217 218 219\n",
      " 220 221 222 223 224 225 226 227 228 229 230 231 232 233 234 235 236 237\n",
      " 238 239 240 241 242 243 244 245 246 247 248 249 250 251 252 253 254 255\n",
      " 256 257 258 259 260 261 262 263 264 265 266 267 268 269 270 271 272 273\n",
      " 274 275 276 277 278 279 280 281 282 283 284 285 286 287 288 289 290 291\n",
      " 292 293 294 295 296 297 298 299 300 301 302]\n",
      "\n",
      "## 평균 정확도: 0.6270666666666667\n"
     ]
    }
   ],
   "source": [
    "heart_data=heart.drop(\"target\",axis=1)# target값만 지정해줌\n",
    "heart_target=heart[\"target\"]# feature값만 지정해줌\n",
    "heart_data_array=heart_data.values#array로 바꿔줘야 index로 kfold가능\n",
    "heart_target_array=heart_target.values\n",
    "dt_clf=DecisionTreeClassifier(random_state=156)\n",
    "kfold=KFold(n_splits=3)#303개의 행이여서 3으로 잡음\n",
    "cv_accuracy=[]\n",
    "case=0\n",
    "\n",
    "for train_index,test_index in kfold.split(heart_data_array):\n",
    "    x_train,x_test=heart_data_array[train_index],heart_data_array[test_index]\n",
    "    y_train,y_test=heart_target_array[train_index],heart_target_array[test_index]\n",
    "    \n",
    "    #학습,예측\n",
    "    dt_clf.fit(x_train,y_train)\n",
    "    pred=dt_clf.predict(x_test)\n",
    "    case+=1\n",
    "    \n",
    "    #정확도 출력\n",
    "    accuracy=np.round(accuracy_score(y_test,pred),4)\n",
    "    train_size=x_train.shape[0]\n",
    "    test_size=x_test.shape[0]\n",
    "    print('\\n#{0} 교차 검증 정확도 :{1}, 학습 데이터 크기: {2}, 검증 데이터 크기: {3}'\n",
    "          .format(case, accuracy, train_size, test_size))\n",
    "    print('#{0} 검증 세트 인덱스:{1}'.format(case,test_index))\n",
    "    cv_accuracy.append(accuracy)\n",
    "#kfold 평균 정확도 계산\n",
    "print(\"\\n## 평균 정확도:\",np.mean(cv_accuracy))\n",
    "#평균 정확도가 매우 낮다"
   ]
  },
  {
   "cell_type": "markdown",
   "metadata": {},
   "source": [
    "stratified kfold"
   ]
  },
  {
   "cell_type": "code",
   "execution_count": 54,
   "metadata": {},
   "outputs": [
    {
     "data": {
      "text/plain": [
       "1    165\n",
       "0    138\n",
       "Name: label, dtype: int64"
      ]
     },
     "execution_count": 54,
     "metadata": {},
     "output_type": "execute_result"
    }
   ],
   "source": [
    "heart_target.value_counts()\n",
    "heart_df=heart_data\n",
    "heart_df[\"label\"]=heart_target\n",
    "heart_df[\"label\"].value_counts()"
   ]
  },
  {
   "cell_type": "code",
   "execution_count": 57,
   "metadata": {},
   "outputs": [
    {
     "name": "stdout",
     "output_type": "stream",
     "text": [
      "## 교차 검증: 1\n",
      "학습 레이블 데이터 분포:\n",
      " 1    110\n",
      "0     92\n",
      "Name: label, dtype: int64\n",
      "검증 레이블 데이터 분포:\n",
      " 1    55\n",
      "0    46\n",
      "Name: label, dtype: int64\n",
      "## 교차 검증: 2\n",
      "학습 레이블 데이터 분포:\n",
      " 1    110\n",
      "0     92\n",
      "Name: label, dtype: int64\n",
      "검증 레이블 데이터 분포:\n",
      " 1    55\n",
      "0    46\n",
      "Name: label, dtype: int64\n",
      "## 교차 검증: 3\n",
      "학습 레이블 데이터 분포:\n",
      " 1    110\n",
      "0     92\n",
      "Name: label, dtype: int64\n",
      "검증 레이블 데이터 분포:\n",
      " 1    55\n",
      "0    46\n",
      "Name: label, dtype: int64\n"
     ]
    }
   ],
   "source": [
    "skf=StratifiedKFold(n_splits=3)\n",
    "case=0\n",
    "for train_index,test_index in skf.split(heart_df,heart_df[\"label\"]):\n",
    "    case+=1\n",
    "    label_train=heart_df[\"label\"].iloc[train_index]\n",
    "    label_test=heart_df[\"label\"].iloc[test_index]\n",
    "    print('## 교차 검증: {0}'.format(case))\n",
    "    print('학습 레이블 데이터 분포:\\n', label_train.value_counts())\n",
    "    print('검증 레이블 데이터 분포:\\n', label_test.value_counts())\n",
    "    "
   ]
  },
  {
   "cell_type": "code",
   "execution_count": 60,
   "metadata": {},
   "outputs": [
    {
     "name": "stdout",
     "output_type": "stream",
     "text": [
      "\n",
      "#1 교차 검증 정확도 :0.7822, 학습 데이터 크기: 202, 검증 데이터 크기: 101\n",
      "#1 검증 세트 인덱스:[  0   1   2   3   4   5   6   7   8   9  10  11  12  13  14  15  16  17\n",
      "  18  19  20  21  22  23  24  25  26  27  28  29  30  31  32  33  34  35\n",
      "  36  37  38  39  40  41  42  43  44  45  46  47  48  49  50  51  52  53\n",
      "  54 165 166 167 168 169 170 171 172 173 174 175 176 177 178 179 180 181\n",
      " 182 183 184 185 186 187 188 189 190 191 192 193 194 195 196 197 198 199\n",
      " 200 201 202 203 204 205 206 207 208 209 210]\n",
      "\n",
      "#2 교차 검증 정확도 :0.7129, 학습 데이터 크기: 202, 검증 데이터 크기: 101\n",
      "#2 검증 세트 인덱스:[ 55  56  57  58  59  60  61  62  63  64  65  66  67  68  69  70  71  72\n",
      "  73  74  75  76  77  78  79  80  81  82  83  84  85  86  87  88  89  90\n",
      "  91  92  93  94  95  96  97  98  99 100 101 102 103 104 105 106 107 108\n",
      " 109 211 212 213 214 215 216 217 218 219 220 221 222 223 224 225 226 227\n",
      " 228 229 230 231 232 233 234 235 236 237 238 239 240 241 242 243 244 245\n",
      " 246 247 248 249 250 251 252 253 254 255 256]\n",
      "\n",
      "#3 교차 검증 정확도 :0.6832, 학습 데이터 크기: 202, 검증 데이터 크기: 101\n",
      "#3 검증 세트 인덱스:[110 111 112 113 114 115 116 117 118 119 120 121 122 123 124 125 126 127\n",
      " 128 129 130 131 132 133 134 135 136 137 138 139 140 141 142 143 144 145\n",
      " 146 147 148 149 150 151 152 153 154 155 156 157 158 159 160 161 162 163\n",
      " 164 257 258 259 260 261 262 263 264 265 266 267 268 269 270 271 272 273\n",
      " 274 275 276 277 278 279 280 281 282 283 284 285 286 287 288 289 290 291\n",
      " 292 293 294 295 296 297 298 299 300 301 302]\n",
      "\n",
      "## 교차 검증별 정확도: [0.7822 0.7129 0.6832]\n",
      "## 평균 검증 정확도: 0.7261000000000001\n"
     ]
    }
   ],
   "source": [
    "dt_clf=DecisionTreeClassifier(random_state=156)\n",
    "\n",
    "skfold=StratifiedKFold(n_splits=3)\n",
    "case=0\n",
    "cv_accuracy=[]\n",
    "\n",
    "for train_index,test_index in skfold.split(heart_data_array,heart_target_array):\n",
    "    x_train,x_test=heart_data_array[train_index],heart_data_array[test_index]\n",
    "    y_train,y_test=heart_target_array[train_index],heart_target_array[test_index]\n",
    "    \n",
    "    dt_clf.fit(x_train,y_train)\n",
    "    pred=dt_clf.predict(x_test)\n",
    "    \n",
    "    case+=1\n",
    "    accuracy=np.round(accuracy_score(y_test,pred),4)\n",
    "    train_size=x_train.shape[0]\n",
    "    test_size=x_test.shape[0]\n",
    "\n",
    "    print('\\n#{0} 교차 검증 정확도 :{1}, 학습 데이터 크기: {2}, 검증 데이터 크기: {3}'\n",
    "          .format(case, accuracy, train_size, test_size))\n",
    "    print('#{0} 검증 세트 인덱스:{1}'.format(case,test_index))\n",
    "    cv_accuracy.append(accuracy)\n",
    "       \n",
    "# 교차 검증별 정확도 및 평균 정확도 계산 \n",
    "print('\\n## 교차 검증별 정확도:', np.round(cv_accuracy, 4))\n",
    "print('## 평균 검증 정확도:', np.mean(cv_accuracy)) \n",
    "    "
   ]
  },
  {
   "cell_type": "markdown",
   "metadata": {},
   "source": [
    "GridSearchCv"
   ]
  },
  {
   "cell_type": "code",
   "execution_count": 77,
   "metadata": {},
   "outputs": [],
   "source": [
    "x_train,x_test,y_train,y_test=train_test_split(heart_data_array,heart_target_array,\n",
    "                                              test_size=0.2,random_state=156)\n",
    "dtree=DecisionTreeClassifier()\n",
    "parameters={\"max_depth\":[1,2,3],\"min_samples_split\":[2,3]}"
   ]
  },
  {
   "cell_type": "code",
   "execution_count": 78,
   "metadata": {},
   "outputs": [
    {
     "data": {
      "text/html": [
       "<div>\n",
       "<style scoped>\n",
       "    .dataframe tbody tr th:only-of-type {\n",
       "        vertical-align: middle;\n",
       "    }\n",
       "\n",
       "    .dataframe tbody tr th {\n",
       "        vertical-align: top;\n",
       "    }\n",
       "\n",
       "    .dataframe thead th {\n",
       "        text-align: right;\n",
       "    }\n",
       "</style>\n",
       "<table border=\"1\" class=\"dataframe\">\n",
       "  <thead>\n",
       "    <tr style=\"text-align: right;\">\n",
       "      <th></th>\n",
       "      <th>params</th>\n",
       "      <th>mean_test_score</th>\n",
       "      <th>rank_test_score</th>\n",
       "      <th>split0_test_score</th>\n",
       "      <th>split1_test_score</th>\n",
       "      <th>split2_test_score</th>\n",
       "    </tr>\n",
       "  </thead>\n",
       "  <tbody>\n",
       "    <tr>\n",
       "      <th>0</th>\n",
       "      <td>{'max_depth': 1, 'min_samples_split': 2}</td>\n",
       "      <td>0.756327</td>\n",
       "      <td>3</td>\n",
       "      <td>0.740741</td>\n",
       "      <td>0.740741</td>\n",
       "      <td>0.7875</td>\n",
       "    </tr>\n",
       "    <tr>\n",
       "      <th>1</th>\n",
       "      <td>{'max_depth': 1, 'min_samples_split': 3}</td>\n",
       "      <td>0.756327</td>\n",
       "      <td>3</td>\n",
       "      <td>0.740741</td>\n",
       "      <td>0.740741</td>\n",
       "      <td>0.7875</td>\n",
       "    </tr>\n",
       "    <tr>\n",
       "      <th>2</th>\n",
       "      <td>{'max_depth': 2, 'min_samples_split': 2}</td>\n",
       "      <td>0.731379</td>\n",
       "      <td>5</td>\n",
       "      <td>0.740741</td>\n",
       "      <td>0.728395</td>\n",
       "      <td>0.7250</td>\n",
       "    </tr>\n",
       "    <tr>\n",
       "      <th>3</th>\n",
       "      <td>{'max_depth': 2, 'min_samples_split': 3}</td>\n",
       "      <td>0.731379</td>\n",
       "      <td>5</td>\n",
       "      <td>0.740741</td>\n",
       "      <td>0.728395</td>\n",
       "      <td>0.7250</td>\n",
       "    </tr>\n",
       "    <tr>\n",
       "      <th>4</th>\n",
       "      <td>{'max_depth': 3, 'min_samples_split': 2}</td>\n",
       "      <td>0.776698</td>\n",
       "      <td>2</td>\n",
       "      <td>0.802469</td>\n",
       "      <td>0.790123</td>\n",
       "      <td>0.7375</td>\n",
       "    </tr>\n",
       "    <tr>\n",
       "      <th>5</th>\n",
       "      <td>{'max_depth': 3, 'min_samples_split': 3}</td>\n",
       "      <td>0.789198</td>\n",
       "      <td>1</td>\n",
       "      <td>0.802469</td>\n",
       "      <td>0.790123</td>\n",
       "      <td>0.7750</td>\n",
       "    </tr>\n",
       "  </tbody>\n",
       "</table>\n",
       "</div>"
      ],
      "text/plain": [
       "                                     params  mean_test_score  rank_test_score  \\\n",
       "0  {'max_depth': 1, 'min_samples_split': 2}         0.756327                3   \n",
       "1  {'max_depth': 1, 'min_samples_split': 3}         0.756327                3   \n",
       "2  {'max_depth': 2, 'min_samples_split': 2}         0.731379                5   \n",
       "3  {'max_depth': 2, 'min_samples_split': 3}         0.731379                5   \n",
       "4  {'max_depth': 3, 'min_samples_split': 2}         0.776698                2   \n",
       "5  {'max_depth': 3, 'min_samples_split': 3}         0.789198                1   \n",
       "\n",
       "   split0_test_score  split1_test_score  split2_test_score  \n",
       "0           0.740741           0.740741             0.7875  \n",
       "1           0.740741           0.740741             0.7875  \n",
       "2           0.740741           0.728395             0.7250  \n",
       "3           0.740741           0.728395             0.7250  \n",
       "4           0.802469           0.790123             0.7375  \n",
       "5           0.802469           0.790123             0.7750  "
      ]
     },
     "execution_count": 78,
     "metadata": {},
     "output_type": "execute_result"
    }
   ],
   "source": [
    "grid_dtree=GridSearchCV(dtree,param_grid=parameters,cv=3,refit=True,return_train_score=True)\n",
    "grid_dtree.fit(x_train,y_train)\n",
    "scores_df=pd.DataFrame(grid_dtree.cv_results_)\n",
    "scores_df[['params', 'mean_test_score', 'rank_test_score', \n",
    "           'split0_test_score', 'split1_test_score', 'split2_test_score']]"
   ]
  },
  {
   "cell_type": "code",
   "execution_count": 79,
   "metadata": {},
   "outputs": [
    {
     "name": "stdout",
     "output_type": "stream",
     "text": [
      "GridSearchCV 최적 파라미터: {'max_depth': 3, 'min_samples_split': 3}\n",
      "GridSearchCV 최고 정확도: 0.7892\n",
      "테스트 데이터 세트 정확도: 0.8197\n"
     ]
    }
   ],
   "source": [
    "print('GridSearchCV 최적 파라미터:', grid_dtree.best_params_)\n",
    "print('GridSearchCV 최고 정확도: {0:.4f}'.format(grid_dtree.best_score_))\n",
    " \n",
    "pred = grid_dtree.predict(x_test)\n",
    "print('테스트 데이터 세트 정확도: {0:.4f}'.format(accuracy_score(y_test,pred)))"
   ]
  },
  {
   "cell_type": "code",
   "execution_count": 80,
   "metadata": {},
   "outputs": [
    {
     "name": "stdout",
     "output_type": "stream",
     "text": [
      "테스트 데이터 세트 정확도:0.8197\n"
     ]
    }
   ],
   "source": [
    "estimator=grid_dtree.best_estimator_\n",
    "pred=estimator.predict(x_test)\n",
    "print(\"테스트 데이터 세트 정확도:{0:.4f}\".format(accuracy_score(y_test,pred)))"
   ]
  },
  {
   "cell_type": "markdown",
   "metadata": {},
   "source": [
    "정확도"
   ]
  },
  {
   "cell_type": "code",
   "execution_count": 87,
   "metadata": {},
   "outputs": [
    {
     "name": "stdout",
     "output_type": "stream",
     "text": [
      "전체 target의 분포도:\n",
      "1    165\n",
      "0    138\n",
      "Name: target, dtype: int64\n",
      "모든 예측을 0으로 하여도 정확도는:0.495\n"
     ]
    }
   ],
   "source": [
    "x_train,x_test,y_train,y_test=train_test_split(heart_data,heart_target,\n",
    "                                               test_size=0.3,random_state=121)\n",
    "\n",
    "class MyFakeClassifier(BaseEstimator):\n",
    "    def fit(self,X,y):\n",
    "        pass\n",
    "    def predict(self,X):\n",
    "        return np.zeros( (len(X), 1) , dtype=bool)\n",
    "fakeclf=MyFakeClassifier()\n",
    "fakeclf.fit(x_train,y_train)\n",
    "fakepred=fakeclf.predict(x_test)\n",
    "print(\"전체 target의 분포도:\")\n",
    "print(heart_target.value_counts())\n",
    "print(\"모든 예측을 0으로 하여도 정확도는:{:.3f}\".format(accuracy_score(y_test,fakepred)))"
   ]
  },
  {
   "cell_type": "code",
   "execution_count": 88,
   "metadata": {},
   "outputs": [
    {
     "data": {
      "text/plain": [
       "array([[45,  0],\n",
       "       [46,  0]], dtype=int64)"
      ]
     },
     "execution_count": 88,
     "metadata": {},
     "output_type": "execute_result"
    }
   ],
   "source": [
    "confusion_matrix(y_test,fakepred)"
   ]
  },
  {
   "cell_type": "markdown",
   "metadata": {},
   "source": [
    "precision,recall"
   ]
  },
  {
   "cell_type": "code",
   "execution_count": 92,
   "metadata": {},
   "outputs": [],
   "source": [
    "def get_clf_eval(y_test , pred):\n",
    "    confusion = confusion_matrix( y_test, pred)\n",
    "    accuracy = accuracy_score(y_test , pred)\n",
    "    precision = precision_score(y_test , pred)\n",
    "    recall = recall_score(y_test , pred)\n",
    "    print('오차 행렬')\n",
    "    print(confusion)\n",
    "    print('정확도: {0:.4f}, 정밀도: {1:.4f}, 재현율: {2:.4f}'.format(accuracy , precision ,recall))"
   ]
  },
  {
   "cell_type": "code",
   "execution_count": 94,
   "metadata": {},
   "outputs": [
    {
     "name": "stdout",
     "output_type": "stream",
     "text": [
      "오차 행렬\n",
      "[[38  0]\n",
      " [ 1 52]]\n",
      "정확도: 0.9890, 정밀도: 1.0000, 재현율: 0.9811\n"
     ]
    },
    {
     "name": "stderr",
     "output_type": "stream",
     "text": [
      "C:\\Users\\sunyong\\anaconda3\\lib\\site-packages\\sklearn\\linear_model\\_logistic.py:940: ConvergenceWarning: lbfgs failed to converge (status=1):\n",
      "STOP: TOTAL NO. of ITERATIONS REACHED LIMIT.\n",
      "\n",
      "Increase the number of iterations (max_iter) or scale the data as shown in:\n",
      "    https://scikit-learn.org/stable/modules/preprocessing.html\n",
      "Please also refer to the documentation for alternative solver options:\n",
      "    https://scikit-learn.org/stable/modules/linear_model.html#logistic-regression\n",
      "  extra_warning_msg=_LOGISTIC_SOLVER_CONVERGENCE_MSG)\n"
     ]
    }
   ],
   "source": [
    "x_train, x_test, y_train, y_test = train_test_split(heart_data, heart_target, \n",
    "                                                    test_size=0.3, random_state=11)\n",
    "lr_clf=LogisticRegression()\n",
    "lr_clf.fit(x_train,y_train)\n",
    "pred=lr_clf.predict(x_test)\n",
    "get_clf_eval(y_test,pred)"
   ]
  },
  {
   "cell_type": "markdown",
   "metadata": {},
   "source": [
    "precision/recall trade-off"
   ]
  },
  {
   "cell_type": "code",
   "execution_count": 95,
   "metadata": {},
   "outputs": [
    {
     "name": "stdout",
     "output_type": "stream",
     "text": [
      "pred_proba()결과 Shape : (91, 2)\n",
      "pred_proba array에서 앞 3개만 샘플로 추출 \n",
      ": [[0.97812023 0.02187977]\n",
      " [0.02892507 0.97107493]\n",
      " [0.81266656 0.18733344]]\n",
      "두개의 class 중에서 더 큰 확률을 클래스 값으로 예측 \n",
      " [[0.97812023 0.02187977 0.        ]\n",
      " [0.02892507 0.97107493 1.        ]\n",
      " [0.81266656 0.18733344 0.        ]]\n"
     ]
    }
   ],
   "source": [
    "pred_proba=lr_clf.predict_proba(x_test)\n",
    "pred=lr_clf.predict(x_test)\n",
    "print('pred_proba()결과 Shape : {0}'.format(pred_proba.shape))\n",
    "print('pred_proba array에서 앞 3개만 샘플로 추출 \\n:', pred_proba[:3])\n",
    "\n",
    "pred_proba_result = np.concatenate([pred_proba , pred.reshape(-1,1)],axis=1)\n",
    "print('두개의 class 중에서 더 큰 확률을 클래스 값으로 예측 \\n',pred_proba_result[:3])\n"
   ]
  },
  {
   "cell_type": "code",
   "execution_count": 102,
   "metadata": {},
   "outputs": [
    {
     "name": "stdout",
     "output_type": "stream",
     "text": [
      "오차 행렬\n",
      "[[38  0]\n",
      " [ 1 52]]\n",
      "정확도: 0.9890, 정밀도: 1.0000, 재현율: 0.9811\n"
     ]
    }
   ],
   "source": [
    "from sklearn.preprocessing import Binarizer\n",
    "\n",
    "custom_threshold=0.5\n",
    "\n",
    "pred_proba_1=pred_proba[:,1].reshape(-1,1)\n",
    "\n",
    "binarizer=Binarizer(threshold=custom_threshold).fit(pred_proba_1)\n",
    "custom_predict=binarizer.transform(pred_proba_1)\n",
    "get_clf_eval(y_test,custom_predict)"
   ]
  },
  {
   "cell_type": "code",
   "execution_count": 104,
   "metadata": {},
   "outputs": [
    {
     "name": "stdout",
     "output_type": "stream",
     "text": [
      "임곗값: 0.4\n",
      "오차 행렬\n",
      "[[38  0]\n",
      " [ 0 53]]\n",
      "정확도: 1.0000, 정밀도: 1.0000, 재현율: 1.0000\n",
      "임곗값: 0.45\n",
      "오차 행렬\n",
      "[[38  0]\n",
      " [ 1 52]]\n",
      "정확도: 0.9890, 정밀도: 1.0000, 재현율: 0.9811\n",
      "임곗값: 0.5\n",
      "오차 행렬\n",
      "[[38  0]\n",
      " [ 1 52]]\n",
      "정확도: 0.9890, 정밀도: 1.0000, 재현율: 0.9811\n",
      "임곗값: 0.55\n",
      "오차 행렬\n",
      "[[38  0]\n",
      " [ 1 52]]\n",
      "정확도: 0.9890, 정밀도: 1.0000, 재현율: 0.9811\n",
      "임곗값: 0.6\n",
      "오차 행렬\n",
      "[[38  0]\n",
      " [ 2 51]]\n",
      "정확도: 0.9780, 정밀도: 1.0000, 재현율: 0.9623\n"
     ]
    }
   ],
   "source": [
    "thresholds=[0.4,0.45,0.5,0.55,0.60]\n",
    "\n",
    "def get_eval_by_threshold(y_test,pred_proba_c1,thresholds):\n",
    "    for custom_threshold in thresholds:\n",
    "        binarizer=Binarizer(threshold=custom_threshold).fit(pred_proba_c1)\n",
    "        custom_predict=binarizer.transform(pred_proba_c1)\n",
    "        print(\"임곗값:\",custom_threshold)\n",
    "        get_clf_eval(y_test,custom_predict)\n",
    "get_eval_by_threshold(y_test,pred_proba[:,1].reshape(-1,1),thresholds)"
   ]
  },
  {
   "cell_type": "code",
   "execution_count": 110,
   "metadata": {},
   "outputs": [
    {
     "name": "stdout",
     "output_type": "stream",
     "text": [
      "반환된 분류 결정 임곗값 배열의 Shape: (53,)\n",
      "반환된 precisions 배열의 Shape: (54,)\n",
      "반환된 recalls 배열의 Shape: (54,)\n",
      "thresholds 5 sample: [0.42868688 0.55947094 0.66800232 0.67001183 0.67482638]\n",
      "precisions 5 sample: [1. 1. 1. 1. 1.]\n",
      "recalls 5 sample: [1.         0.98113208 0.96226415 0.94339623 0.9245283 ]\n",
      "샘플 추출을 위한 임계값 배열의 index 10개: [ 0  5 10 15 20 25 30 35 40 45 50]\n",
      "샘플용 10개의 임곗값:  [0.43 0.81 0.92 0.95 0.95 0.97 0.97 0.98 0.99 0.99 1.  ]\n",
      "샘플 임계값별 정밀도:  [1. 1. 1. 1. 1. 1. 1. 1. 1. 1. 1.]\n",
      "샘플 임계값별 재현율:  [1.    0.906 0.811 0.717 0.623 0.528 0.434 0.34  0.245 0.151 0.057]\n"
     ]
    }
   ],
   "source": [
    "pred_proba_class1=lr_clf.predict_proba(x_test)[:,1]\n",
    "precisions,recalls,thresholds=precision_recall_curve(y_test,pred_proba_class1)\n",
    "print('반환된 분류 결정 임곗값 배열의 Shape:', thresholds.shape)\n",
    "print('반환된 precisions 배열의 Shape:', precisions.shape)\n",
    "print('반환된 recalls 배열의 Shape:', recalls.shape)\n",
    "\n",
    "print(\"thresholds 5 sample:\", thresholds[:5])\n",
    "print(\"precisions 5 sample:\", precisions[:5])\n",
    "print(\"recalls 5 sample:\", recalls[:5])\n",
    "\n",
    "thr_index = np.arange(0, thresholds.shape[0], 5)\n",
    "print('샘플 추출을 위한 임계값 배열의 index 11개:', thr_index)\n",
    "print('샘플용 11개의 임곗값: ', np.round(thresholds[thr_index], 2))\n",
    "\n",
    "print('샘플 임계값별 정밀도: ', np.round(precisions[thr_index], 3))\n",
    "print('샘플 임계값별 재현율: ', np.round(recalls[thr_index], 3))"
   ]
  },
  {
   "cell_type": "code",
   "execution_count": 113,
   "metadata": {},
   "outputs": [
    {
     "data": {
      "image/png": "[encoded data removed]",
      "text/plain": [
       "<Figure size 576x432 with 1 Axes>"
      ]
     },
     "metadata": {
      "needs_background": "light"
     },
     "output_type": "display_data"
    }
   ],
   "source": [
    "import matplotlib.pyplot as plt\n",
    "import matplotlib.ticker as ticker\n",
    "%matplotlib inline\n",
    "\n",
    "def precision_recall_curve_plot(y_test,pred_proba_c1):\n",
    "    precisions,recalls,thresholds=precision_recall_curve(y_test,pred_proba_c1)\n",
    "    plt.figure(figsize=(8,6))\n",
    "    threshold_boundary=thresholds.shape[0]\n",
    "    plt.plot(thresholds, precisions[0:threshold_boundary], linestyle='--', label='precision')\n",
    "    plt.plot(thresholds, recalls[0:threshold_boundary],label='recall')\n",
    "    \n",
    "    # threshold 값 X 축의 Scale을 0.1 단위로 변경\n",
    "    start, end = plt.xlim()\n",
    "    plt.xticks(np.round(np.arange(start, end, 0.1),2))\n",
    "    \n",
    "    # x축, y축 label과 legend, 그리고 grid 설정\n",
    "    plt.xlabel('Threshold value'); plt.ylabel('Precision and Recall value')\n",
    "    plt.legend(); plt.grid()\n",
    "    plt.show()\n",
    "    \n",
    "precision_recall_curve_plot( y_test, lr_clf.predict_proba(x_test)[:, 1] )"
   ]
  },
  {
   "cell_type": "markdown",
   "metadata": {},
   "source": [
    "f1_score"
   ]
  },
  {
   "cell_type": "code",
   "execution_count": 115,
   "metadata": {},
   "outputs": [
    {
     "name": "stdout",
     "output_type": "stream",
     "text": [
      "F1 스코어: 0.9905\n"
     ]
    }
   ],
   "source": [
    "f1=f1_score(y_test,pred)\n",
    "print('F1 스코어: {0:.4f}'.format(f1))"
   ]
  },
  {
   "cell_type": "code",
   "execution_count": 117,
   "metadata": {},
   "outputs": [
    {
     "name": "stdout",
     "output_type": "stream",
     "text": [
      "임곗값: 0.4\n",
      "오차 행렬\n",
      "[[38  0]\n",
      " [ 0 53]]\n",
      "정확도: 1.0000, 정밀도: 1.0000, 재현율: 1.0000, F1:1.0000\n",
      "임곗값: 0.45\n",
      "오차 행렬\n",
      "[[38  0]\n",
      " [ 1 52]]\n",
      "정확도: 0.9890, 정밀도: 1.0000, 재현율: 0.9811, F1:0.9905\n",
      "임곗값: 0.5\n",
      "오차 행렬\n",
      "[[38  0]\n",
      " [ 1 52]]\n",
      "정확도: 0.9890, 정밀도: 1.0000, 재현율: 0.9811, F1:0.9905\n",
      "임곗값: 0.55\n",
      "오차 행렬\n",
      "[[38  0]\n",
      " [ 1 52]]\n",
      "정확도: 0.9890, 정밀도: 1.0000, 재현율: 0.9811, F1:0.9905\n",
      "임곗값: 0.6\n",
      "오차 행렬\n",
      "[[38  0]\n",
      " [ 2 51]]\n",
      "정확도: 0.9780, 정밀도: 1.0000, 재현율: 0.9623, F1:0.9808\n"
     ]
    }
   ],
   "source": [
    "def get_clf_eval(y_test , pred):\n",
    "    confusion = confusion_matrix( y_test, pred)\n",
    "    accuracy = accuracy_score(y_test , pred)\n",
    "    precision = precision_score(y_test , pred)\n",
    "    recall = recall_score(y_test , pred)\n",
    "    # F1 스코어 추가\n",
    "    f1 = f1_score(y_test,pred)\n",
    "    print('오차 행렬')\n",
    "    print(confusion)\n",
    "    # f1 score print 추가\n",
    "    print('정확도: {0:.4f}, 정밀도: {1:.4f}, 재현율: {2:.4f}, F1:{3:.4f}'.format(accuracy, precision, recall, f1))\n",
    "\n",
    "thresholds = [0.4 , 0.45 , 0.50 , 0.55 , 0.60]\n",
    "pred_proba = lr_clf.predict_proba(x_test)\n",
    "get_eval_by_threshold(y_test, pred_proba[:,1].reshape(-1,1), thresholds)"
   ]
  },
  {
   "cell_type": "markdown",
   "metadata": {},
   "source": [
    "ROC Curve AUC"
   ]
  },
  {
   "cell_type": "code",
   "execution_count": 122,
   "metadata": {},
   "outputs": [
    {
     "name": "stdout",
     "output_type": "stream",
     "text": [
      "샘플 추출을 위한 임곗값 배열의 index 10개: [0 1 2 3]\n",
      "샘플용 10개의 임곗값:  [2.   1.   0.43 0.  ]\n",
      "샘플 임곗값별 FPR:  [0. 0. 0. 1.]\n",
      "샘플 임곗값별 TPR:  [0.    0.019 1.    1.   ]\n"
     ]
    }
   ],
   "source": [
    "from sklearn.metrics import roc_curve\n",
    "pred_proba_class1 = lr_clf.predict_proba(x_test)[:, 1] \n",
    "\n",
    "fprs , tprs , thresholds = roc_curve(y_test, pred_proba_class1)\n",
    "# 반환된 임곗값 배열 로우가 47건이므로 샘플로 10건만 추출하되, 임곗값을 5 Step으로 추출. \n",
    "thr_index = np.arange(0, thresholds.shape[0],1)\n",
    "print('샘플 추출을 위한 임곗값 배열의 index 10개:', thr_index)\n",
    "print('샘플용 10개의 임곗값: ', np.round(thresholds[thr_index], 2))\n",
    "\n",
    "# 5 step 단위로 추출된 임계값에 따른 FPR, TPR 값\n",
    "print('샘플 임곗값별 FPR: ', np.round(fprs[thr_index], 3))\n",
    "print('샘플 임곗값별 TPR: ', np.round(tprs[thr_index], 3))"
   ]
  },
  {
   "cell_type": "code",
   "execution_count": 121,
   "metadata": {},
   "outputs": [
    {
     "data": {
      "text/plain": [
       "4"
      ]
     },
     "execution_count": 121,
     "metadata": {},
     "output_type": "execute_result"
    }
   ],
   "source": []
  },
  {
   "cell_type": "code",
   "execution_count": null,
   "metadata": {},
   "outputs": [],
   "source": []
  }
 ],
 "metadata": {
  "kernelspec": {
   "display_name": "Python 3",
   "language": "python",
   "name": "python3"
  },
  "language_info": {
   "codemirror_mode": {
    "name": "ipython",
    "version": 3
   },
   "file_extension": ".py",
   "mimetype": "text/x-python",
   "name": "python",
   "nbconvert_exporter": "python",
   "pygments_lexer": "ipython3",
   "version": "3.7.6"
  }
 },
 "nbformat": 4,
 "nbformat_minor": 4
}
